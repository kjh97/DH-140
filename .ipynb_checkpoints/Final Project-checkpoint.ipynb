{
 "cells": [
  {
   "cell_type": "markdown",
   "id": "b57665d0",
   "metadata": {},
   "source": [
    "# The Happiness Data Project "
   ]
  },
  {
   "cell_type": "markdown",
   "id": "468ea5d2",
   "metadata": {},
   "source": [
    "### Project Description \n",
    "\n",
    "The data I will be analyzing in my final project was gathered from the World Happiness Report (by the Gallup World Survey), which seeks to measure and make more concrete what has always been a very subjective and abstract, yet an infinitely integral aspect of human life -- happiness.  \n",
    "\n",
    "**Data:**\n",
    "[World Happiness Reports from 2015 to 2022](\"https://www.kaggle.com/datasets/mathurinache/world-happiness-report?select=2022.csv\")\n",
    "\n",
    "Happiness is something that all humans crave and desire. From Aristotle who espoused a eudaimonic and virtue-driven happiness, to Epicurus who advocated for hedonism and embracing feelings of pleasure, philosophers have long discussed and debated what happiness entails, and how we as humans can seek to achieve it. Nonetheless, it remains as enigmatic and relevant as ever, with mental health awareness on the rise and nascent fields like positive psychology dedicated to the study of happiness. In a way, it seems like there has been no progress made in the past few centuries on how we can go about achieving this ever-elusive goal. Yet, perhaps it was this very sense of abstruseness that has driven my lifelong fascination with happiness, well-being, and the factors that influence it. \n",
    "The question then arises -- how can I approach a topic so abstract and nuanced, when it has even stumped humankind for centuries? Well, I believe the answer to that is, data. By looking at happiness through the lens of data, I hope to uncover and analyze patterns in happiness around the world, and hopefully gain new insights into what factors affect happiness. \n",
    "\n",
    "###  Research Questions \n",
    "\n",
    "1) How do economic factors like GDP per capita affect happiness?\n",
    "\n",
    "2) How do social policies and welfare affect happiness? \n",
    "\n",
    "3) How has global happiness been affected by the COVID-19 pandemic? \n",
    "\n"
   ]
  },
  {
   "cell_type": "code",
   "execution_count": null,
   "id": "bae207a3",
   "metadata": {},
   "outputs": [],
   "source": []
  }
 ],
 "metadata": {
  "kernelspec": {
   "display_name": "Python 3 (ipykernel)",
   "language": "python",
   "name": "python3"
  },
  "language_info": {
   "codemirror_mode": {
    "name": "ipython",
    "version": 3
   },
   "file_extension": ".py",
   "mimetype": "text/x-python",
   "name": "python",
   "nbconvert_exporter": "python",
   "pygments_lexer": "ipython3",
   "version": "3.10.8"
  }
 },
 "nbformat": 4,
 "nbformat_minor": 5
}
