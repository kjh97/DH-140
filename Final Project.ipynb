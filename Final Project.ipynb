{
 "cells": [
  {
   "cell_type": "markdown",
   "id": "b57665d0",
   "metadata": {},
   "source": [
    "# The Happiness Data Project "
   ]
  },
  {
   "cell_type": "markdown",
   "id": "468ea5d2",
   "metadata": {},
   "source": [
    "### Project Description \n",
    "\n",
    "The data I will be analyzing in my final project was gathered from the World Happiness Report (by the Gallup World Survey), which seeks to measure and make more concrete what has always been a very subjective and abstract, yet an infinitely integral aspect of human life -- happiness.  \n",
    "\n",
    "**Data:**\n",
    "[World Happiness Reports from 2015 to 2022](\"https://www.kaggle.com/datasets/mathurinache/world-happiness-report?select=2022.csv\")\n",
    "\n",
    "Happiness is something that all humans crave and desire. From Aristotle who espoused a eudaimonic and virtue-driven happiness, to Epicurus who advocated for hedonism and embracing feelings of pleasure, philosophers have long discussed and debated what happiness entails, and how we as humans can seek to achieve it. Nonetheless, it remains as enigmatic and relevant as ever, with mental health awareness on the rise and nascent fields like positive psychology dedicated to the study of happiness. In a way, it seems like there has been no progress made in the past few centuries on how we can go about achieving this ever-elusive goal. Yet, perhaps it was this very sense of abstruseness that has driven my lifelong fascination with happiness, well-being, and the factors that influence it. \n",
    "The question then arises -- how can I approach a topic so abstract and nuanced, when it has even stumped humankind for centuries? Well, I believe the answer to that is, data. By looking at happiness through the lens of data, I hope to uncover and analyze patterns in happiness around the world, and hopefully gain new insights into what factors affect happiness. \n",
    "\n",
    "###  Research Questions \n",
    "\n",
    "1) How do economic factors like GDP per capita affect happiness?\n",
    "\n",
    "2) How do social policies and welfare affect happiness? \n",
    "\n",
    "3) How has global happiness been affected by the COVID-19 pandemic? \n",
    "\n"
   ]
  },
  {
   "cell_type": "markdown",
   "id": "81a7786c",
   "metadata": {},
   "source": [
    "## Data Breakdown"
   ]
  },
  {
   "cell_type": "code",
   "execution_count": 48,
   "id": "ff15b71e",
   "metadata": {},
   "outputs": [],
   "source": [
    "import pandas as pd\n",
    "import matplotlib.pyplot as plt\n",
    "\n",
    "hp19 = pd.read_csv('https://raw.githubusercontent.com/gurvinder08/Happiness-Report/main/2019.csv')"
   ]
  },
  {
   "cell_type": "code",
   "execution_count": 49,
   "id": "e0794f99",
   "metadata": {},
   "outputs": [
    {
     "data": {
      "text/html": [
       "<div>\n",
       "<style scoped>\n",
       "    .dataframe tbody tr th:only-of-type {\n",
       "        vertical-align: middle;\n",
       "    }\n",
       "\n",
       "    .dataframe tbody tr th {\n",
       "        vertical-align: top;\n",
       "    }\n",
       "\n",
       "    .dataframe thead th {\n",
       "        text-align: right;\n",
       "    }\n",
       "</style>\n",
       "<table border=\"1\" class=\"dataframe\">\n",
       "  <thead>\n",
       "    <tr style=\"text-align: right;\">\n",
       "      <th></th>\n",
       "      <th>Overall rank</th>\n",
       "      <th>Country or region</th>\n",
       "      <th>Score</th>\n",
       "      <th>GDP per capita</th>\n",
       "      <th>Social support</th>\n",
       "      <th>Healthy life expectancy</th>\n",
       "      <th>Freedom to make life choices</th>\n",
       "      <th>Generosity</th>\n",
       "      <th>Perceptions of corruption</th>\n",
       "    </tr>\n",
       "  </thead>\n",
       "  <tbody>\n",
       "    <tr>\n",
       "      <th>117</th>\n",
       "      <td>118</td>\n",
       "      <td>Guinea</td>\n",
       "      <td>4.534</td>\n",
       "      <td>0.38</td>\n",
       "      <td>0.829</td>\n",
       "      <td>0.375</td>\n",
       "      <td>0.332</td>\n",
       "      <td>0.207</td>\n",
       "      <td>0.086</td>\n",
       "    </tr>\n",
       "  </tbody>\n",
       "</table>\n",
       "</div>"
      ],
      "text/plain": [
       "     Overall rank Country or region  Score  GDP per capita  Social support  \\\n",
       "117           118            Guinea  4.534            0.38           0.829   \n",
       "\n",
       "     Healthy life expectancy  Freedom to make life choices  Generosity  \\\n",
       "117                    0.375                         0.332       0.207   \n",
       "\n",
       "     Perceptions of corruption  \n",
       "117                      0.086  "
      ]
     },
     "execution_count": 49,
     "metadata": {},
     "output_type": "execute_result"
    }
   ],
   "source": [
    "hp19.sample()"
   ]
  },
  {
   "cell_type": "code",
   "execution_count": 50,
   "id": "db8fa15d",
   "metadata": {},
   "outputs": [
    {
     "data": {
      "text/plain": [
       "<AxesSubplot: >"
      ]
     },
     "execution_count": 50,
     "metadata": {},
     "output_type": "execute_result"
    },
    {
     "data": {
      "image/png": "[encoded data removed]",
      "text/plain": [
       "<Figure size 640x480 with 1 Axes>"
      ]
     },
     "metadata": {},
     "output_type": "display_data"
    }
   ],
   "source": [
    "hp19.plot(y = 'Score')"
   ]
  },
  {
   "cell_type": "code",
   "execution_count": null,
   "id": "f70c5a08",
   "metadata": {},
   "outputs": [],
   "source": []
  }
 ],
 "metadata": {
  "kernelspec": {
   "display_name": "Python 3 (ipykernel)",
   "language": "python",
   "name": "python3"
  },
  "language_info": {
   "codemirror_mode": {
    "name": "ipython",
    "version": 3
   },
   "file_extension": ".py",
   "mimetype": "text/x-python",
   "name": "python",
   "nbconvert_exporter": "python",
   "pygments_lexer": "ipython3",
   "version": "3.10.8"
  }
 },
 "nbformat": 4,
 "nbformat_minor": 5
}
